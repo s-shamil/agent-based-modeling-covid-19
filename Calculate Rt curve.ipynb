{
 "cells": [
  {
   "cell_type": "code",
   "execution_count": 91,
   "metadata": {},
   "outputs": [],
   "source": [
    "import pickle as pickle\n",
    "persons = pickle.load(open('persons_snapshot120.p', 'rb'))"
   ]
  },
  {
   "cell_type": "code",
   "execution_count": 97,
   "metadata": {},
   "outputs": [
    {
     "name": "stdout",
     "output_type": "stream",
     "text": [
      "480\n",
      "[7, 14, 21, 28, 35, 42, 49, 56, 63, 70, 77, 84, 91, 98, 105, 112, 119]\n",
      "[7.333333333333333, 7.2, 6.073529411764706, 1.3591269841269842, 1.1375186846038865, 1.0392156862745099, 0.6871008939974457, 0.7945823927765236, 0.9971671388101983, 0.88, 0.7875, 0.7509578544061303, 0.5679611650485437, 0.689922480620155, 0.7395833333333334, 0.7272727272727273, 0.6296296296296297]\n"
     ]
    },
    {
     "data": {
      "text/plain": [
       "[<matplotlib.lines.Line2D at 0x7faa91ced390>]"
      ]
     },
     "execution_count": 97,
     "metadata": {},
     "output_type": "execute_result"
    },
    {
     "data": {
      "image/png": "[encoded data removed]",
      "text/plain": [
       "<Figure size 432x288 with 1 Axes>"
      ]
     },
     "metadata": {
      "needs_background": "light"
     },
     "output_type": "display_data"
    }
   ],
   "source": [
    "total_days = 120\n",
    "graph_days = 119\n",
    "start_day = 7\n",
    "interval = 7\n",
    "win_size = 7*4\n",
    "\n",
    "\n",
    "\n",
    "#dictionary to store out edges\n",
    "outdegrees = {}\n",
    "for pers in persons:\n",
    "    if pers.is_infected:\n",
    "        if(pers.infected_by in outdegrees.keys()):\n",
    "            outdegrees[pers.infected_by] += 1\n",
    "        elif pers.infected_by != None:\n",
    "            outdegrees[pers.infected_by] = 1\n",
    "print(len(outdegrees))\n",
    "win_right = start_day\n",
    "x = []\n",
    "y = []\n",
    "while (win_right<=graph_days):\n",
    "    win_left = max(win_right - win_size, 0)\n",
    "    x.append(win_right)\n",
    "    total_nodes = 0\n",
    "    total_outedges = 0\n",
    "    for pers in persons:\n",
    "        if pers.is_infected:\n",
    "            when_infected = total_days - pers.infected_days\n",
    "            if (when_infected>=win_left and when_infected<win_right):\n",
    "                total_nodes += 1\n",
    "                \n",
    "                if pers.id in outdegrees.keys():\n",
    "                    total_outedges += outdegrees[pers.id]\n",
    "    if(total_nodes==0):\n",
    "        y.append(0)\n",
    "    else:\n",
    "        y.append(total_outedges/total_nodes)\n",
    "    \n",
    "    win_right += interval\n",
    "    \n",
    "print(x)\n",
    "print(y)\n",
    "\n",
    "%matplotlib inline\n",
    "import matplotlib.pyplot as plt\n",
    "plt.plot(x,y)\n",
    "            \n",
    "            "
   ]
  },
  {
   "cell_type": "code",
   "execution_count": 48,
   "metadata": {},
   "outputs": [
    {
     "name": "stdout",
     "output_type": "stream",
     "text": [
      "26 17\n"
     ]
    }
   ],
   "source": [
    "outdegrees = {}\n",
    "for pers in persons:\n",
    "    if(pers.infected_by in outdegrees.keys()):\n",
    "        outdegrees[pers.infected_by] += 1\n",
    "    elif pers.infected_by != None:\n",
    "        outdegrees[pers.infected_by] = 1"
   ]
  },
  {
   "cell_type": "code",
   "execution_count": 94,
   "metadata": {},
   "outputs": [
    {
     "name": "stdout",
     "output_type": "stream",
     "text": [
      "440 5\n",
      "1476 0\n",
      "7006 4\n",
      "3\n"
     ]
    }
   ],
   "source": [
    "cnt = 0\n",
    "for pers in persons:\n",
    "    if (pers.infected_by == 909 and pers.is_infected):\n",
    "        print(pers.id, pers.infected_days)\n",
    "        cnt+=1\n",
    "print(cnt)"
   ]
  },
  {
   "cell_type": "code",
   "execution_count": 92,
   "metadata": {},
   "outputs": [
    {
     "name": "stdout",
     "output_type": "stream",
     "text": [
      "2\n"
     ]
    }
   ],
   "source": [
    "cnt = 0\n",
    "for pers in persons:\n",
    "    if pers.is_infected and pers.infected_days==0:\n",
    "        cnt += 1\n",
    "print(cnt)"
   ]
  },
  {
   "cell_type": "code",
   "execution_count": null,
   "metadata": {},
   "outputs": [],
   "source": []
  }
 ],
 "metadata": {
  "kernelspec": {
   "display_name": "Python 3",
   "language": "python",
   "name": "python3"
  },
  "language_info": {
   "codemirror_mode": {
    "name": "ipython",
    "version": 3
   },
   "file_extension": ".py",
   "mimetype": "text/x-python",
   "name": "python",
   "nbconvert_exporter": "python",
   "pygments_lexer": "ipython3",
   "version": "3.6.9"
  }
 },
 "nbformat": 4,
 "nbformat_minor": 2
}
